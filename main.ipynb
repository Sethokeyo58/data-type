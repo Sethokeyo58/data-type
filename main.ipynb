{
 "cells": [
  {
   "cell_type": "markdown",
   "id": "a0444ad4",
   "metadata": {},
   "source": [
    "Variables"
   ]
  },
  {
   "cell_type": "code",
   "execution_count": 1,
   "id": "1acb9eca",
   "metadata": {},
   "outputs": [
    {
     "name": "stdout",
     "output_type": "stream",
     "text": [
      "Hello, world!\n",
      "Hello, Seth!\n",
      "Hi there! My name is Becky and i am 24 years old.\n"
     ]
    }
   ],
   "source": [
    "print(\"Hello, world!\")\n",
    "\n",
    "message =\"Hello, Seth!\"\n",
    "print(message)\n",
    "\n",
    "name = \"Becky\"\n",
    "age =24\n",
    "print(f\"Hi there! My name is {name} and i am {age} years old.\")"
   ]
  },
  {
   "cell_type": "markdown",
   "id": "737f669f",
   "metadata": {},
   "source": [
    "# Data Types"
   ]
  },
  {
   "cell_type": "markdown",
   "id": "3c578164",
   "metadata": {},
   "source": [
    "Data types define the type of value a varible can hold.\n",
    "- Strings\n",
    "- Numbers\n",
    "- Booleans\n",
    "- Lists\n",
    "- Tuples\n",
    "- Dictionaries\n",
    "- Sets\n",
    "- None Types"
   ]
  },
  {
   "cell_type": "markdown",
   "id": "5e5a269e",
   "metadata": {},
   "source": [
    "Strings"
   ]
  },
  {
   "cell_type": "code",
   "execution_count": 11,
   "id": "e1063401",
   "metadata": {},
   "outputs": [
    {
     "name": "stdout",
     "output_type": "stream",
     "text": [
      "<class 'str'>\n",
      "PYTHON PROGRAMMING\n",
      "python programming\n",
      "Python programming\n",
      "Java programming\n",
      "['python', 'programming']\n",
      "Length of text: 18\n",
      "Python Programming\n",
      "PYTHON PROGRAMMING\n"
     ]
    }
   ],
   "source": [
    "str = \"Hello\"\n",
    "str2 = \"World\"\n",
    "str3 = \"\"\"\n",
    "    This is a multi-line string.\n",
    "    It can span multiple lines.\n",
    "    Useful for documentation or long text blocks.\n",
    "    \"\"\"\n",
    "print(type ( str))\n",
    "\n",
    "text = \"python programming\"\n",
    "print(text.upper())\n",
    "print(text.lower())\n",
    "print(text.capitalize())\n",
    "print(text.replace(\"python\", \"Java\"))\n",
    "print(text.split())\n",
    "print(\"Length of text:\", len(text))\n",
    "print(text.title())\n",
    "print(text.swapcase())"
   ]
  },
  {
   "cell_type": "code",
   "execution_count": 15,
   "id": "a7eeba89",
   "metadata": {},
   "outputs": [
    {
     "name": "stdout",
     "output_type": "stream",
     "text": [
      "7\n",
      "2\n",
      "True\n"
     ]
    }
   ],
   "source": [
    "message = \"Hello, Seth!\"\n",
    "print(message.find(\"Seth\"))\n",
    "print(message.count(\"e\"))\n",
    "print(message.startswith(\"Hello\"))"
   ]
  },
  {
   "cell_type": "code",
   "execution_count": 19,
   "id": "165fadaa",
   "metadata": {},
   "outputs": [
    {
     "name": "stdout",
     "output_type": "stream",
     "text": [
      "        Hello         \n",
      "Hello\n",
      "Hello         \n",
      "        Hello\n"
     ]
    }
   ],
   "source": [
    "data = \"        Hello         \"\n",
    "print(data)\n",
    "print(data.strip())  # Removes leading and trailing whitespace\n",
    "print(data.lstrip()) # Removes leading whitespace\n",
    "print(data.rstrip()) # Removes trailing whitespace"
   ]
  },
  {
   "cell_type": "code",
   "execution_count": 20,
   "id": "53538ce7",
   "metadata": {},
   "outputs": [
    {
     "name": "stdout",
     "output_type": "stream",
     "text": [
      "I like art\n"
     ]
    }
   ],
   "source": [
    "text2 =\"I like music\"\n",
    "print(text2.replace(\"music\", \"art\"))"
   ]
  }
 ],
 "metadata": {
  "kernelspec": {
   "display_name": "virtual",
   "language": "python",
   "name": "python3"
  },
  "language_info": {
   "codemirror_mode": {
    "name": "ipython",
    "version": 3
   },
   "file_extension": ".py",
   "mimetype": "text/x-python",
   "name": "python",
   "nbconvert_exporter": "python",
   "pygments_lexer": "ipython3",
   "version": "3.14.0"
  }
 },
 "nbformat": 4,
 "nbformat_minor": 5
}

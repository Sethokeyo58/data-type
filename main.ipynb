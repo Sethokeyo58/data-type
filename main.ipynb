{
 "cells": [
  {
   "cell_type": "markdown",
   "id": "a0444ad4",
   "metadata": {},
   "source": [
    "Variables"
   ]
  },
  {
   "cell_type": "code",
   "execution_count": 1,
   "id": "1acb9eca",
   "metadata": {},
   "outputs": [
    {
     "name": "stdout",
     "output_type": "stream",
     "text": [
      "Hello, world!\n",
      "Hello, Seth!\n",
      "Hi there! My name is Becky and i am 24 years old.\n"
     ]
    }
   ],
   "source": [
    "print(\"Hello, world!\")\n",
    "\n",
    "message =\"Hello, Seth!\"\n",
    "print(message)\n",
    "\n",
    "name = \"Becky\"\n",
    "age =24\n",
    "print(f\"Hi there! My name is {name} and i am {age} years old.\")"
   ]
  },
  {
   "cell_type": "markdown",
   "id": "737f669f",
   "metadata": {},
   "source": [
    "# Data Types"
   ]
  },
  {
   "cell_type": "markdown",
   "id": "3c578164",
   "metadata": {},
   "source": [
    "Data types define the type of value a varible can hold.\n",
    "- Strings\n",
    "- Numbers\n",
    "- Booleans\n",
    "- Lists\n",
    "- Tuples\n",
    "- Dictionaries\n",
    "- Sets\n",
    "- None Types"
   ]
  },
  {
   "cell_type": "markdown",
   "id": "5e5a269e",
   "metadata": {},
   "source": [
    "Strings"
   ]
  },
  {
   "cell_type": "code",
   "execution_count": 11,
   "id": "e1063401",
   "metadata": {},
   "outputs": [
    {
     "name": "stdout",
     "output_type": "stream",
     "text": [
      "<class 'str'>\n",
      "PYTHON PROGRAMMING\n",
      "python programming\n",
      "Python programming\n",
      "Java programming\n",
      "['python', 'programming']\n",
      "Length of text: 18\n",
      "Python Programming\n",
      "PYTHON PROGRAMMING\n"
     ]
    }
   ],
   "source": [
    "str = \"Hello\"\n",
    "str2 = \"World\"\n",
    "str3 = \"\"\"\n",
    "    This is a multi-line string.\n",
    "    It can span multiple lines.\n",
    "    Useful for documentation or long text blocks.\n",
    "    \"\"\"\n",
    "print(type ( str))\n",
    "\n",
    "text = \"python programming\"\n",
    "print(text.upper())\n",
    "print(text.lower())\n",
    "print(text.capitalize())\n",
    "print(text.replace(\"python\", \"Java\"))\n",
    "print(text.split())\n",
    "print(\"Length of text:\", len(text))\n",
    "print(text.title())\n",
    "print(text.swapcase())"
   ]
  },
  {
   "cell_type": "code",
   "execution_count": 15,
   "id": "a7eeba89",
   "metadata": {},
   "outputs": [
    {
     "name": "stdout",
     "output_type": "stream",
     "text": [
      "7\n",
      "2\n",
      "True\n"
     ]
    }
   ],
   "source": [
    "message = \"Hello, Seth!\"\n",
    "print(message.find(\"Seth\"))\n",
    "print(message.count(\"e\"))\n",
    "print(message.startswith(\"Hello\"))"
   ]
  },
  {
   "cell_type": "code",
   "execution_count": 19,
   "id": "165fadaa",
   "metadata": {},
   "outputs": [
    {
     "name": "stdout",
     "output_type": "stream",
     "text": [
      "        Hello         \n",
      "Hello\n",
      "Hello         \n",
      "        Hello\n"
     ]
    }
   ],
   "source": [
    "data = \"        Hello         \"\n",
    "print(data)\n",
    "print(data.strip())  # Removes leading and trailing whitespace\n",
    "print(data.lstrip()) # Removes leading whitespace\n",
    "print(data.rstrip()) # Removes trailing whitespace"
   ]
  },
  {
   "cell_type": "code",
   "execution_count": 21,
   "id": "53538ce7",
   "metadata": {},
   "outputs": [
    {
     "name": "stdout",
     "output_type": "stream",
     "text": [
      "I like art\n"
     ]
    }
   ],
   "source": [
    "text2 =\"I like music\"\n",
    "print(text2.replace(\"music\", \"art\"))"
   ]
  },
  {
   "cell_type": "markdown",
   "id": "6504f606",
   "metadata": {},
   "source": [
    "# Numbers"
   ]
  },
  {
   "cell_type": "markdown",
   "id": "47ffcf68",
   "metadata": {},
   "source": [
    "Integers (Int)"
   ]
  },
  {
   "cell_type": "code",
   "execution_count": 29,
   "id": "9bd8b055",
   "metadata": {},
   "outputs": [
    {
     "name": "stdout",
     "output_type": "stream",
     "text": [
      "<class 'int'>\n",
      "<class 'int'>\n",
      "10000000000000000000000000000000000000000000000000000000000000000000000000000000000000000000000000000\n",
      "17\n",
      "3\n",
      "70\n",
      "1.4285714285714286\n",
      "1\n",
      "3\n",
      "10000000\n"
     ]
    }
   ],
   "source": [
    "# can be positive, negative or zero\n",
    "\n",
    "num1 = 20\n",
    "num2 = -25\n",
    "num3 = 10**100\n",
    "print(type(num1))\n",
    "print(type(num2))\n",
    "print(num3)\n",
    "\n",
    "a = 10\n",
    "b = 7\n",
    "\n",
    "print(a + b)  # Addition\n",
    "print(a - b)  # Subtraction\n",
    "print(a * b)  # Multiplication\n",
    "print(a / b)  # Division (float)\n",
    "print(a // b) # Floor Division\n",
    "print(a % b)  # Modulus\n",
    "print(a ** b) # Exponentiation\n"
   ]
  },
  {
   "cell_type": "markdown",
   "id": "00bae4af",
   "metadata": {},
   "source": [
    "float"
   ]
  },
  {
   "cell_type": "code",
   "execution_count": 33,
   "id": "8c9c59fe",
   "metadata": {},
   "outputs": [
    {
     "name": "stdout",
     "output_type": "stream",
     "text": [
      "1200.0\n",
      "<class 'float'>\n",
      "<class 'float'>\n",
      "0.30000000000000004\n",
      "0.3\n"
     ]
    }
   ],
   "source": [
    "pi =3.1415\n",
    "val = -2.5\n",
    "sci =1.2e3  # 1.2 x 10^3 = 1200.0\n",
    "\n",
    "print(sci)\n",
    "print(type(pi))\n",
    "print(type(val))\n",
    "\n",
    "print(0.1 + 0.2)\n",
    "from decimal import Decimal\n",
    "print(Decimal('0.1') + Decimal('0.2'))"
   ]
  },
  {
   "cell_type": "markdown",
   "id": "992888e7",
   "metadata": {},
   "source": [
    "# None"
   ]
  },
  {
   "cell_type": "code",
   "execution_count": 35,
   "id": "5affe707",
   "metadata": {},
   "outputs": [
    {
     "name": "stdout",
     "output_type": "stream",
     "text": [
      "None\n",
      "<class 'NoneType'>\n",
      "<class 'int'>\n"
     ]
    }
   ],
   "source": [
    "b = None\n",
    "print(b)\n",
    "print(type(b))\n",
    "b = 5\n",
    "print(type(b))"
   ]
  },
  {
   "cell_type": "markdown",
   "id": "742e57c8",
   "metadata": {},
   "source": [
    "# Conditional Statements"
   ]
  },
  {
   "cell_type": "code",
   "execution_count": 49,
   "id": "0345f622",
   "metadata": {},
   "outputs": [
    {
     "name": "stdout",
     "output_type": "stream",
     "text": [
      "You are a Minor.\n",
      "9 is Odd.\n",
      "Less or Equal\n"
     ]
    }
   ],
   "source": [
    "age = 17\n",
    "if age >= 18:\n",
    "    print(\"You are an Adult.\")\n",
    "else:\n",
    "    print(\"You are a Minor.\")\n",
    "\n",
    "num = 9\n",
    "if num % 2==0:\n",
    "    print(f\"{num} is Even.\")        \n",
    "    \n",
    "else:\n",
    "    print(f\"{num} is Odd.\")\n",
    "    \n",
    "num = 4\n",
    "if num > 5:\n",
    "    print(\"Greater\")\n",
    "else:\n",
    "    print(\"Less or Equal\")\n",
    "    "
   ]
  },
  {
   "cell_type": "code",
   "execution_count": 54,
   "id": "26b5ef04",
   "metadata": {},
   "outputs": [
    {
     "name": "stdout",
     "output_type": "stream",
     "text": [
      "Grade: C\n"
     ]
    }
   ],
   "source": [
    "score = 76\n",
    "\n",
    "if score >= 90:\n",
    "    print(\"Grade: A\")\n",
    "elif score >= 80:\n",
    "    print(\"Grade: B\")\n",
    "elif score >= 70:\n",
    "    print(\"Grade: C\")\n",
    "else:\n",
    "    print(\"Grade: F\")"
   ]
  },
  {
   "cell_type": "code",
   "execution_count": 59,
   "id": "bc281330",
   "metadata": {},
   "outputs": [
    {
     "name": "stdout",
     "output_type": "stream",
     "text": [
      "Grade: A\n"
     ]
    }
   ],
   "source": [
    "score = int(input(\"Enter your score: \"))    #Get user input/ prompt\n",
    "\n",
    "if score >= 90:\n",
    "    print(\"Grade: A\")\n",
    "elif score >= 80:\n",
    "    print(\"Grade: B\")\n",
    "elif score >= 70:\n",
    "    print(\"Grade: C\")\n",
    "else:\n",
    "    print(\"Grade: F\")"
   ]
  },
  {
   "cell_type": "markdown",
   "id": "671a0c4f",
   "metadata": {},
   "source": [
    "Nested if statement"
   ]
  },
  {
   "cell_type": "code",
   "execution_count": 68,
   "id": "e96e7efb",
   "metadata": {},
   "outputs": [
    {
     "name": "stdout",
     "output_type": "stream",
     "text": [
      " positive even number.\n"
     ]
    }
   ],
   "source": [
    "x = 8\n",
    "if x > 0:\n",
    "    if x % 2 == 0:\n",
    "        print(\" positive even number.\")\n",
    "    else:\n",
    "        print(\" positive odd number.\")\n",
    "else:\n",
    "    print(\"Negative number or zero.\")"
   ]
  }
 ],
 "metadata": {
  "kernelspec": {
   "display_name": "virtual",
   "language": "python",
   "name": "python3"
  },
  "language_info": {
   "codemirror_mode": {
    "name": "ipython",
    "version": 3
   },
   "file_extension": ".py",
   "mimetype": "text/x-python",
   "name": "python",
   "nbconvert_exporter": "python",
   "pygments_lexer": "ipython3",
   "version": "3.14.0"
  }
 },
 "nbformat": 4,
 "nbformat_minor": 5
}
